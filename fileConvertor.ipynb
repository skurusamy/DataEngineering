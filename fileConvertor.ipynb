{
 "cells": [
  {
   "cell_type": "code",
   "execution_count": 1,
   "metadata": {},
   "outputs": [],
   "source": [
    "import pandas as pd\n",
    "import json\n",
    "import os"
   ]
  },
  {
   "cell_type": "code",
   "execution_count": 2,
   "metadata": {},
   "outputs": [],
   "source": [
    "\n",
    "def getColumnName(schemaPath, schema_name):\n",
    "    file_obj = open(schemaPath,\"r\")\n",
    "    schema_details = json.load(file_obj)\n",
    "    header_details = schema_details.get(schema_name)\n",
    "    return [col[\"column_name\"] for col in header_details]"
   ]
  },
  {
   "cell_type": "code",
   "execution_count": 3,
   "metadata": {},
   "outputs": [],
   "source": [
    "os.makedirs(\"outputs/\",exist_ok = True)\n",
    "def fileConvertor(file_path, header,output_file):\n",
    "    dataframe = pd.read_csv(file_path, names=header)\n",
    "    print(dataframe.count)\n",
    "    dataframe.to_json(\"outputs/\"+output_file, orient=\"records\",lines=True)\n"
   ]
  },
  {
   "cell_type": "code",
   "execution_count": 4,
   "metadata": {},
   "outputs": [
    {
     "name": "stdout",
     "output_type": "stream",
     "text": [
      "<bound method DataFrame.count of        order_id             order_date  order_customer_id     order_status\n",
      "0             1  2013-07-25 00:00:00.0              11599           CLOSED\n",
      "1             2  2013-07-25 00:00:00.0                256  PENDING_PAYMENT\n",
      "2             3  2013-07-25 00:00:00.0              12111         COMPLETE\n",
      "3             4  2013-07-25 00:00:00.0               8827           CLOSED\n",
      "4             5  2013-07-25 00:00:00.0              11318         COMPLETE\n",
      "...         ...                    ...                ...              ...\n",
      "68878     68879  2014-07-09 00:00:00.0                778         COMPLETE\n",
      "68879     68880  2014-07-13 00:00:00.0               1117         COMPLETE\n",
      "68880     68881  2014-07-19 00:00:00.0               2518  PENDING_PAYMENT\n",
      "68881     68882  2014-07-22 00:00:00.0              10000          ON_HOLD\n",
      "68882     68883  2014-07-23 00:00:00.0               5533         COMPLETE\n",
      "\n",
      "[68883 rows x 4 columns]>\n"
     ]
    }
   ],
   "source": [
    "orders_headers = getColumnName(\"/Users/subhakuru/Documents/data/retail_db/schemas.json\",\"orders\")\n",
    "orders_headers\n",
    "fileConvertor(\"/Users/subhakuru/Documents/data/retail_db/orders/part-00000\",orders_headers, \"orders.json\")"
   ]
  }
 ],
 "metadata": {
  "kernelspec": {
   "display_name": "Python 3",
   "language": "python",
   "name": "python3"
  },
  "language_info": {
   "codemirror_mode": {
    "name": "ipython",
    "version": 3
   },
   "file_extension": ".py",
   "mimetype": "text/x-python",
   "name": "python",
   "nbconvert_exporter": "python",
   "pygments_lexer": "ipython3",
   "version": "3.7.9"
  },
  "orig_nbformat": 4
 },
 "nbformat": 4,
 "nbformat_minor": 2
}
