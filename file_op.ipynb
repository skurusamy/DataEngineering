{
 "cells": [
  {
   "cell_type": "code",
   "execution_count": 6,
   "metadata": {},
   "outputs": [
    {
     "data": {
      "text/plain": [
       "str"
      ]
     },
     "execution_count": 6,
     "metadata": {},
     "output_type": "execute_result"
    }
   ],
   "source": [
    "sample_file = open(\"/Users/subhakuru/Documents/data/retail_db/orders/part-00000\",\"r\")\n",
    "file_content = sample_file.read()\n",
    "type(file_content)\n"
   ]
  },
  {
   "cell_type": "code",
   "execution_count": 4,
   "metadata": {},
   "outputs": [
    {
     "name": "stdout",
     "output_type": "stream",
     "text": [
      "['1,2013-07-25 00:00:00.0,11599,CLOSED', '2,2013-07-25 00:00:00.0,256,PENDING_PAYMENT', '3,2013-07-25 00:00:00.0,12111,COMPLETE', '4,2013-07-25 00:00:00.0,8827,CLOSED', '5,2013-07-25 00:00:00.0,11318,COMPLETE', '6,2013-07-25 00:00:00.0,7130,COMPLETE', '7,2013-07-25 00:00:00.0,4530,COMPLETE', '8,2013-07-25 00:00:00.0,2911,PROCESSING', '9,2013-07-25 00:00:00.0,5657,PENDING_PAYMENT', '10,2013-07-25 00:00:00.0,5648,PENDING_PAYMENT', '11,2013-07-25 00:00:00.0,918,PAYMENT_REVIEW', '12,2013-07-25 00:00:00.0,1837,CLOSED', '13,2013-07-25 00:00:00.0,9149,PENDING_PAYMENT', '14,2013-07-25 00:00:00.0,9842,PROCESSING', '15,2013-07-25 00:00:00.0,2568,COMPLETE', '16,2013-07-25 00:00:00.0,7276,PENDING_PAYMENT', '17,2013-07-25 00:00:00.0,2667,COMPLETE', '18,2013-07-25 00:00:00.0,1205,CLOSED', '19,2013-07-25 00:00:00.0,9488,PENDING_PAYMENT', '20,2013-07-25 00:00:00.0,9198,PROCESSING']\n"
     ]
    }
   ],
   "source": [
    "orders = file_content.splitlines()[:20]\n",
    "print(orders)"
   ]
  },
  {
   "cell_type": "code",
   "execution_count": 55,
   "metadata": {},
   "outputs": [
    {
     "data": {
      "text/plain": [
       "True"
      ]
     },
     "execution_count": 55,
     "metadata": {},
     "output_type": "execute_result"
    }
   ],
   "source": [
    "orders[0].split(\",\")[-1] == 'CLOSED'"
   ]
  },
  {
   "cell_type": "code",
   "execution_count": 66,
   "metadata": {},
   "outputs": [],
   "source": [
    "complete_orders = filter(lambda order: order.split(\",\")[-1] in ('CLOSED', 'COMPLETE') ,orders)\n",
    "complete_orders = list(complete_orders)"
   ]
  },
  {
   "cell_type": "code",
   "execution_count": 64,
   "metadata": {},
   "outputs": [
    {
     "data": {
      "text/plain": [
       "['CLOSED',\n",
       " 'PENDING_PAYMENT',\n",
       " 'COMPLETE',\n",
       " 'CLOSED',\n",
       " 'COMPLETE',\n",
       " 'COMPLETE',\n",
       " 'COMPLETE',\n",
       " 'PROCESSING',\n",
       " 'PENDING_PAYMENT',\n",
       " 'PENDING_PAYMENT',\n",
       " 'PAYMENT_REVIEW',\n",
       " 'CLOSED',\n",
       " 'PENDING_PAYMENT',\n",
       " 'PROCESSING',\n",
       " 'COMPLETE',\n",
       " 'PENDING_PAYMENT',\n",
       " 'COMPLETE',\n",
       " 'CLOSED',\n",
       " 'PENDING_PAYMENT',\n",
       " 'PROCESSING']"
      ]
     },
     "execution_count": 64,
     "metadata": {},
     "output_type": "execute_result"
    }
   ],
   "source": [
    "order_status = map(lambda order:order.split(\",\")[-1], orders)\n",
    "\n",
    "order_status = list(order_status)\n",
    "list(order_status)\n",
    "#In map, both the input and output count will be same and hence called as low level processing. "
   ]
  },
  {
   "cell_type": "code",
   "execution_count": 65,
   "metadata": {},
   "outputs": [
    {
     "data": {
      "text/plain": [
       "{'CLOSED', 'COMPLETE', 'PAYMENT_REVIEW', 'PENDING_PAYMENT', 'PROCESSING'}"
      ]
     },
     "execution_count": 65,
     "metadata": {},
     "output_type": "execute_result"
    }
   ],
   "source": [
    "set(order_status)"
   ]
  },
  {
   "cell_type": "code",
   "execution_count": 88,
   "metadata": {},
   "outputs": [
    {
     "data": {
      "text/plain": [
       "'11599'"
      ]
     },
     "execution_count": 88,
     "metadata": {},
     "output_type": "execute_result"
    }
   ],
   "source": [
    "complete_orders[0].split(\",\")[2]"
   ]
  },
  {
   "cell_type": "code",
   "execution_count": 90,
   "metadata": {},
   "outputs": [
    {
     "data": {
      "text/plain": [
       "['18,2013-07-25 00:00:00.0,1205,CLOSED',\n",
       " '12,2013-07-25 00:00:00.0,1837,CLOSED',\n",
       " '15,2013-07-25 00:00:00.0,2568,COMPLETE',\n",
       " '17,2013-07-25 00:00:00.0,2667,COMPLETE',\n",
       " '7,2013-07-25 00:00:00.0,4530,COMPLETE',\n",
       " '6,2013-07-25 00:00:00.0,7130,COMPLETE',\n",
       " '4,2013-07-25 00:00:00.0,8827,CLOSED',\n",
       " '5,2013-07-25 00:00:00.0,11318,COMPLETE',\n",
       " '1,2013-07-25 00:00:00.0,11599,CLOSED',\n",
       " '3,2013-07-25 00:00:00.0,12111,COMPLETE']"
      ]
     },
     "execution_count": 90,
     "metadata": {},
     "output_type": "execute_result"
    }
   ],
   "source": [
    "sorted(complete_orders,key= lambda order:int(order.split(\",\")[2]))"
   ]
  }
 ],
 "metadata": {
  "kernelspec": {
   "display_name": "Python 3",
   "language": "python",
   "name": "python3"
  },
  "language_info": {
   "codemirror_mode": {
    "name": "ipython",
    "version": 3
   },
   "file_extension": ".py",
   "mimetype": "text/x-python",
   "name": "python",
   "nbconvert_exporter": "python",
   "pygments_lexer": "ipython3",
   "version": "3.7.9"
  },
  "orig_nbformat": 4
 },
 "nbformat": 4,
 "nbformat_minor": 2
}
