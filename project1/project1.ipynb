{
 "cells": [
  {
   "cell_type": "code",
   "execution_count": 2,
   "metadata": {},
   "outputs": [],
   "source": [
    "import glob\n",
    "import pandas as pd\n",
    "import json\n",
    "import os"
   ]
  },
  {
   "cell_type": "code",
   "execution_count": 4,
   "metadata": {},
   "outputs": [
    {
     "data": {
      "text/plain": [
       "list"
      ]
     },
     "execution_count": 4,
     "metadata": {},
     "output_type": "execute_result"
    }
   ],
   "source": [
    "schema_path = glob.glob(\"/Users/subhakuru/Documents/data/retail_db/*.json\", recursive=True)\n",
    "type(schema_path)"
   ]
  },
  {
   "cell_type": "code",
   "execution_count": 5,
   "metadata": {},
   "outputs": [
    {
     "data": {
      "text/plain": [
       "['/Users/subhakuru/Documents/data/retail_db/customers/part-00000',\n",
       " '/Users/subhakuru/Documents/data/retail_db/products/part-00000',\n",
       " '/Users/subhakuru/Documents/data/retail_db/departments/part-00000',\n",
       " '/Users/subhakuru/Documents/data/retail_db/order_items/part-00000',\n",
       " '/Users/subhakuru/Documents/data/retail_db/orders/part-00000',\n",
       " '/Users/subhakuru/Documents/data/retail_db/categories/part-00000']"
      ]
     },
     "execution_count": 5,
     "metadata": {},
     "output_type": "execute_result"
    }
   ],
   "source": [
    "glob.glob(\"/Users/subhakuru/Documents/data/retail_db/*/*\", recursive=True)"
   ]
  },
  {
   "cell_type": "code",
   "execution_count": 9,
   "metadata": {},
   "outputs": [
    {
     "data": {
      "text/plain": [
       "['/Users/subhakuru/Documents/data/retail_db/customers/part-00000',\n",
       " '/Users/subhakuru/Documents/data/retail_db/products/part-00000',\n",
       " '/Users/subhakuru/Documents/data/retail_db/departments/part-00000',\n",
       " '/Users/subhakuru/Documents/data/retail_db/order_items/part-00000',\n",
       " '/Users/subhakuru/Documents/data/retail_db/orders/part-00000',\n",
       " '/Users/subhakuru/Documents/data/retail_db/categories/part-00000']"
      ]
     },
     "execution_count": 9,
     "metadata": {},
     "output_type": "execute_result"
    }
   ],
   "source": [
    "source_file = glob.glob(\"/Users/subhakuru/Documents/data/retail_db/*/part-*\")\n",
    "source_file"
   ]
  },
  {
   "cell_type": "code",
   "execution_count": 43,
   "metadata": {},
   "outputs": [],
   "source": [
    "def getColumnName(schemaPath,schema_name):\n",
    "    file_obj = open(schemaPath[0],\"r\")\n",
    "    schema_details = json.load(file_obj)\n",
    "    header_details = schema_details.get(schema_name)\n",
    "    return [col[\"column_name\"] for col in header_details]"
   ]
  },
  {
   "cell_type": "code",
   "execution_count": 51,
   "metadata": {},
   "outputs": [
    {
     "name": "stdout",
     "output_type": "stream",
     "text": [
      "Shape of each customers data_frame (12435, 9)\n",
      "Shape of each products data_frame (1345, 6)\n",
      "Shape of each departments data_frame (6, 2)\n",
      "Shape of each order_items data_frame (172198, 6)\n",
      "Shape of each orders data_frame (68883, 4)\n",
      "Shape of each categories data_frame (58, 3)\n"
     ]
    }
   ],
   "source": [
    "for file_path in source_file: \n",
    "    schema_name = file_path.split(\"/\")[-2]\n",
    "    header = getColumnName(schema_path, schema_name)\n",
    "    dataframe = pd.read_csv(file_path, names = header)\n",
    "    print(f'Shape of each {schema_name} data_frame {dataframe.shape}')\n",
    "\n",
    "    os.makedirs(\"outputs/\",exist_ok = True)\n",
    "    dataframe.to_json(\"outputs/\"+schema_name+\".json\", orient = \"records\", lines= True)\n",
    "    #print(f'Shape of each json ')"
   ]
  }
 ],
 "metadata": {
  "kernelspec": {
   "display_name": "Python 3",
   "language": "python",
   "name": "python3"
  },
  "language_info": {
   "codemirror_mode": {
    "name": "ipython",
    "version": 3
   },
   "file_extension": ".py",
   "mimetype": "text/x-python",
   "name": "python",
   "nbconvert_exporter": "python",
   "pygments_lexer": "ipython3",
   "version": "3.7.9"
  },
  "orig_nbformat": 4
 },
 "nbformat": 4,
 "nbformat_minor": 2
}
